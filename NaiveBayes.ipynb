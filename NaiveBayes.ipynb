{
  "nbformat": 4,
  "nbformat_minor": 0,
  "metadata": {
    "colab": {
      "name": "Untitled9.ipynb",
      "provenance": [],
      "mount_file_id": "1IZReojxTLnVF_3tdXnRHI8zlvfX3bWtp",
      "authorship_tag": "ABX9TyPapVz7MbYm/uRq12jZOx2G",
      "include_colab_link": true
    },
    "kernelspec": {
      "name": "python3",
      "display_name": "Python 3"
    }
  },
  "cells": [
    {
      "cell_type": "markdown",
      "metadata": {
        "id": "view-in-github",
        "colab_type": "text"
      },
      "source": [
        "<a href=\"https://colab.research.google.com/github/detleffolke/PyTorch-for-Deep-Learning-and-Computer-Vision-Course-All-Codes-/blob/master/NaiveBayes.ipynb\" target=\"_parent\"><img src=\"https://colab.research.google.com/assets/colab-badge.svg\" alt=\"Open In Colab\"/></a>"
      ]
    },
    {
      "cell_type": "code",
      "metadata": {
        "id": "cefqa7Z19Ynd",
        "colab_type": "code",
        "colab": {}
      },
      "source": [
        "import os\n",
        "import io\n",
        "import numpy\n",
        "from pandas import DataFrame\n",
        "from sklearn.feature_extraction.text import CountVectorizer\n",
        "from sklearn.naive_bayes import MultinomialNB"
      ],
      "execution_count": null,
      "outputs": []
    },
    {
      "cell_type": "code",
      "metadata": {
        "id": "plVi3msY-Sq5",
        "colab_type": "code",
        "colab": {}
      },
      "source": [
        "def readFiles(path):\n",
        "  for root, dirnames, filenames in os.walk(path):\n",
        "    for filename in filenames:\n",
        "      path = os.path.join(root, filename)\n",
        "\n",
        "      inBody = False\n",
        "      lines = []\n",
        "      f  =io.open(path, 'r', encoding='latin1')\n",
        "      for line in f:\n",
        "        if inBody:\n",
        "          lines.append(line)\n",
        "        elif line == '\\n':\n",
        "          inBody = True\n",
        "      f.close()\n",
        "      message = '\\n'.join(lines)\n",
        "      yield path, message"
      ],
      "execution_count": null,
      "outputs": []
    },
    {
      "cell_type": "code",
      "metadata": {
        "id": "AP7jTnE7AViv",
        "colab_type": "code",
        "colab": {}
      },
      "source": [
        "def dataFrameFromDirectory(path, classification):\n",
        "  rows = []\n",
        "  index = []\n",
        "  for filename, message in readFiles(path):\n",
        "    rows.append({'message': message, 'class': classification})\n",
        "    index,append(filename)\n",
        "  return DataFrame(rows, index=index)\n",
        "\n",
        "data = DataFrame({'message': [], 'class' : []})\n",
        "\n",
        "data = data.append(dataFrameFromDirectory('./emails/spam', 'spam'))\n",
        "data = data.append(dataFrameFromDirectory('./emails/ham', 'ham'))\n"
      ],
      "execution_count": null,
      "outputs": []
    },
    {
      "cell_type": "code",
      "metadata": {
        "id": "xZtKxxaOFtrt",
        "colab_type": "code",
        "colab": {
          "base_uri": "https://localhost:8080/",
          "height": 49
        },
        "outputId": "a2796d5a-3a10-42b0-c7ca-ff08d240e1ef"
      },
      "source": [
        "data.head()"
      ],
      "execution_count": null,
      "outputs": [
        {
          "output_type": "execute_result",
          "data": {
            "text/html": [
              "<div>\n",
              "<style scoped>\n",
              "    .dataframe tbody tr th:only-of-type {\n",
              "        vertical-align: middle;\n",
              "    }\n",
              "\n",
              "    .dataframe tbody tr th {\n",
              "        vertical-align: top;\n",
              "    }\n",
              "\n",
              "    .dataframe thead th {\n",
              "        text-align: right;\n",
              "    }\n",
              "</style>\n",
              "<table border=\"1\" class=\"dataframe\">\n",
              "  <thead>\n",
              "    <tr style=\"text-align: right;\">\n",
              "      <th></th>\n",
              "      <th>message</th>\n",
              "      <th>class</th>\n",
              "    </tr>\n",
              "  </thead>\n",
              "  <tbody>\n",
              "  </tbody>\n",
              "</table>\n",
              "</div>"
            ],
            "text/plain": [
              "Empty DataFrame\n",
              "Columns: [message, class]\n",
              "Index: []"
            ]
          },
          "metadata": {
            "tags": []
          },
          "execution_count": 8
        }
      ]
    }
  ]
}